{
 "cells": [
  {
   "cell_type": "code",
   "execution_count": 5,
   "id": "e7ee2d3d",
   "metadata": {},
   "outputs": [],
   "source": [
    "import numpy as np\n",
    "from pathlib import Path"
   ]
  },
  {
   "cell_type": "code",
   "execution_count": 11,
   "id": "2819c7b4",
   "metadata": {},
   "outputs": [],
   "source": [
    "valid_nucleotides = ['A', 'T', 'G', 'C']  # order in emission matrix\n",
    "\n",
    "emission_matrix = np.array([\n",
    "    [0.26210149, 0.26210149, 0.23789851, 0.23789851],\n",
    "    [0.13677411, 0.13677411, 0.36322589, 0.36322589]\n",
    "])\n",
    "\n",
    "path_to_save = Path('hw1/params/emission_matrix.npy')\n",
    "path_to_save.parent.mkdir(parents=True, exist_ok=True)"
   ]
  },
  {
   "cell_type": "code",
   "execution_count": 14,
   "id": "3b56982a",
   "metadata": {},
   "outputs": [],
   "source": [
    "np.save(path_to_save, emission_matrix)"
   ]
  },
  {
   "cell_type": "code",
   "execution_count": 17,
   "id": "c56c4899",
   "metadata": {},
   "outputs": [
    {
     "name": "stdout",
     "output_type": "stream",
     "text": [
      "emission_matrix.npy\n"
     ]
    }
   ],
   "source": [
    "!ls {path_to_save.parent}"
   ]
  }
 ],
 "metadata": {
  "kernelspec": {
   "display_name": ".venv",
   "language": "python",
   "name": "python3"
  },
  "language_info": {
   "codemirror_mode": {
    "name": "ipython",
    "version": 3
   },
   "file_extension": ".py",
   "mimetype": "text/x-python",
   "name": "python",
   "nbconvert_exporter": "python",
   "pygments_lexer": "ipython3",
   "version": "3.12.3"
  }
 },
 "nbformat": 4,
 "nbformat_minor": 5
}
